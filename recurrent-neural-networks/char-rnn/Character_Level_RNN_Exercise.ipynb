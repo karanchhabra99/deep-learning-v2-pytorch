{
  "nbformat": 4,
  "nbformat_minor": 0,
  "metadata": {
    "kernelspec": {
      "display_name": "Python [default]",
      "language": "python",
      "name": "python3"
    },
    "language_info": {
      "codemirror_mode": {
        "name": "ipython",
        "version": 3
      },
      "file_extension": ".py",
      "mimetype": "text/x-python",
      "name": "python",
      "nbconvert_exporter": "python",
      "pygments_lexer": "ipython3",
      "version": "3.6.4"
    },
    "colab": {
      "name": "Character_Level_RNN_Exercise.ipynb",
      "provenance": [],
      "include_colab_link": true
    },
    "accelerator": "GPU"
  },
  "cells": [
    {
      "cell_type": "markdown",
      "metadata": {
        "id": "view-in-github",
        "colab_type": "text"
      },
      "source": [
        "<a href=\"https://colab.research.google.com/github/karanchhabra99/deep-learning-v2-pytorch/blob/master/recurrent-neural-networks/char-rnn/Character_Level_RNN_Exercise.ipynb\" target=\"_parent\"><img src=\"https://colab.research.google.com/assets/colab-badge.svg\" alt=\"Open In Colab\"/></a>"
      ]
    },
    {
      "cell_type": "markdown",
      "metadata": {
        "id": "TUAmAVX9saH5",
        "colab_type": "text"
      },
      "source": [
        "# Character-Level LSTM in PyTorch\n",
        "\n",
        "In this notebook, I'll construct a character-level LSTM with PyTorch. The network will train character by character on some text, then generate new text character by character. As an example, I will train on Anna Karenina. **This model will be able to generate new text based on the text from the book!**\n",
        "\n",
        "This network is based off of Andrej Karpathy's [post on RNNs](http://karpathy.github.io/2015/05/21/rnn-effectiveness/) and [implementation in Torch](https://github.com/karpathy/char-rnn). Below is the general architecture of the character-wise RNN.\n",
        "\n",
        "<img src=\"https://github.com/karanchhabra99/deep-learning-v2-pytorch/blob/master/recurrent-neural-networks/char-rnn/assets/charseq.jpeg?raw=1\" width=\"500\">"
      ]
    },
    {
      "cell_type": "markdown",
      "metadata": {
        "id": "D46l-wJhsaH9",
        "colab_type": "text"
      },
      "source": [
        "First let's load in our required resources for data loading and model creation."
      ]
    },
    {
      "cell_type": "code",
      "metadata": {
        "id": "udaco6SMsaH_",
        "colab_type": "code",
        "colab": {}
      },
      "source": [
        "import numpy as np\n",
        "import torch\n",
        "from torch import nn\n",
        "import torch.nn.functional as F"
      ],
      "execution_count": 2,
      "outputs": []
    },
    {
      "cell_type": "markdown",
      "metadata": {
        "id": "w3vEbnv0saIH",
        "colab_type": "text"
      },
      "source": [
        "## Load in Data\n",
        "\n",
        "Then, we'll load the Anna Karenina text file and convert it into integers for our network to use. "
      ]
    },
    {
      "cell_type": "code",
      "metadata": {
        "id": "p1ThwFxNwbCx",
        "colab_type": "code",
        "colab": {
          "base_uri": "https://localhost:8080/",
          "height": 125
        },
        "outputId": "4e150c89-9f8a-4993-c4f7-093688816617"
      },
      "source": [
        "from google.colab import drive\n",
        "drive.mount('/content/gdrive/')"
      ],
      "execution_count": 3,
      "outputs": [
        {
          "output_type": "stream",
          "text": [
            "Go to this URL in a browser: https://accounts.google.com/o/oauth2/auth?client_id=947318989803-6bn6qk8qdgf4n4g3pfee6491hc0brc4i.apps.googleusercontent.com&redirect_uri=urn%3aietf%3awg%3aoauth%3a2.0%3aoob&response_type=code&scope=email%20https%3a%2f%2fwww.googleapis.com%2fauth%2fdocs.test%20https%3a%2f%2fwww.googleapis.com%2fauth%2fdrive%20https%3a%2f%2fwww.googleapis.com%2fauth%2fdrive.photos.readonly%20https%3a%2f%2fwww.googleapis.com%2fauth%2fpeopleapi.readonly\n",
            "\n",
            "Enter your authorization code:\n",
            "··········\n",
            "Mounted at /content/gdrive/\n"
          ],
          "name": "stdout"
        }
      ]
    },
    {
      "cell_type": "code",
      "metadata": {
        "id": "QVkj8K8PsaII",
        "colab_type": "code",
        "colab": {}
      },
      "source": [
        "# open text file and read in data as `text`\n",
        "with open('/content/gdrive/My Drive/Colab Notebooks/Shared/Anna.txt', 'r') as f:\n",
        "    text = f.read()"
      ],
      "execution_count": 4,
      "outputs": []
    },
    {
      "cell_type": "markdown",
      "metadata": {
        "id": "bPiVvzF5saIQ",
        "colab_type": "text"
      },
      "source": [
        "Let's check out the first 100 characters, make sure everything is peachy. According to the [American Book Review](http://americanbookreview.org/100bestlines.asp), this is the 6th best first line of a book ever."
      ]
    },
    {
      "cell_type": "code",
      "metadata": {
        "id": "X15AK0fRsaIR",
        "colab_type": "code",
        "colab": {
          "base_uri": "https://localhost:8080/",
          "height": 34
        },
        "outputId": "347cec86-04b2-4136-9dca-b312722e1b42"
      },
      "source": [
        "text[:100]"
      ],
      "execution_count": 5,
      "outputs": [
        {
          "output_type": "execute_result",
          "data": {
            "text/plain": [
              "'Chapter 1\\n\\n\\nHappy families are all alike; every unhappy family is unhappy in its own\\nway.\\n\\nEverythin'"
            ]
          },
          "metadata": {
            "tags": []
          },
          "execution_count": 5
        }
      ]
    },
    {
      "cell_type": "markdown",
      "metadata": {
        "id": "zdzoQ69OsaIW",
        "colab_type": "text"
      },
      "source": [
        "### Tokenization\n",
        "\n",
        "In the cells, below, I'm creating a couple **dictionaries** to convert the characters to and from integers. Encoding the characters as integers makes it easier to use as input in the network."
      ]
    },
    {
      "cell_type": "code",
      "metadata": {
        "id": "jniF7vZosaIX",
        "colab_type": "code",
        "colab": {}
      },
      "source": [
        "# encode the text and map each character to an integer and vice versa\n",
        "\n",
        "# we create two dictionaries:\n",
        "# 1. int2char, which maps integers to characters\n",
        "# 2. char2int, which maps characters to unique integers\n",
        "chars = tuple(set(text))\n",
        "int2char = dict(enumerate(chars))\n",
        "char2int = {ch: ii for ii, ch in int2char.items()}\n",
        "\n",
        "# encode the text\n",
        "encoded = np.array([char2int[ch] for ch in text])"
      ],
      "execution_count": 6,
      "outputs": []
    },
    {
      "cell_type": "markdown",
      "metadata": {
        "id": "QeA_7MhUsaIh",
        "colab_type": "text"
      },
      "source": [
        "And we can see those same characters from above, encoded as integers."
      ]
    },
    {
      "cell_type": "code",
      "metadata": {
        "id": "dGCpB2eFsaIi",
        "colab_type": "code",
        "colab": {
          "base_uri": "https://localhost:8080/",
          "height": 122
        },
        "outputId": "d256a1ce-f886-4a3c-dc6b-cbc58f8abd8d"
      },
      "source": [
        "encoded[:100]"
      ],
      "execution_count": 7,
      "outputs": [
        {
          "output_type": "execute_result",
          "data": {
            "text/plain": [
              "array([51, 68, 41,  5, 26, 55, 76, 10, 27, 73, 73, 73, 70, 41,  5,  5, 16,\n",
              "       10, 59, 41, 17,  6, 31,  6, 55, 46, 10, 41, 76, 55, 10, 41, 31, 31,\n",
              "       10, 41, 31,  6,  4, 55,  7, 10, 55, 35, 55, 76, 16, 10, 58, 12, 68,\n",
              "       41,  5,  5, 16, 10, 59, 41, 17,  6, 31, 16, 10,  6, 46, 10, 58, 12,\n",
              "       68, 41,  5,  5, 16, 10,  6, 12, 10,  6, 26, 46, 10, 36,  8, 12, 73,\n",
              "        8, 41, 16, 37, 73, 73, 65, 35, 55, 76, 16, 26, 68,  6, 12])"
            ]
          },
          "metadata": {
            "tags": []
          },
          "execution_count": 7
        }
      ]
    },
    {
      "cell_type": "markdown",
      "metadata": {
        "id": "jYE8JmfRsaIn",
        "colab_type": "text"
      },
      "source": [
        "## Pre-processing the data\n",
        "\n",
        "As you can see in our char-RNN image above, our LSTM expects an input that is **one-hot encoded** meaning that each character is converted into an integer (via our created dictionary) and *then* converted into a column vector where only it's corresponding integer index will have the value of 1 and the rest of the vector will be filled with 0's. Since we're one-hot encoding the data, let's make a function to do that!\n"
      ]
    },
    {
      "cell_type": "code",
      "metadata": {
        "id": "Pgg_qitvsaIo",
        "colab_type": "code",
        "colab": {}
      },
      "source": [
        "def one_hot_encode(arr, n_labels):\n",
        "    \n",
        "    # Initialize the the encoded array\n",
        "    one_hot = np.zeros((arr.size, n_labels), dtype=np.float32)\n",
        "    \n",
        "    # Fill the appropriate elements with ones\n",
        "    one_hot[np.arange(one_hot.shape[0]), arr.flatten()] = 1.\n",
        "    \n",
        "    # Finally reshape it to get back to the original array\n",
        "    one_hot = one_hot.reshape((*arr.shape, n_labels))\n",
        "    \n",
        "    return one_hot"
      ],
      "execution_count": 8,
      "outputs": []
    },
    {
      "cell_type": "code",
      "metadata": {
        "id": "qYfANPrZsaIx",
        "colab_type": "code",
        "colab": {
          "base_uri": "https://localhost:8080/",
          "height": 70
        },
        "outputId": "ed6e1ff1-694f-493c-d2c5-02d5ca5a0a49"
      },
      "source": [
        "# check that the function works as expected\n",
        "test_seq = np.array([[3, 5, 1]])\n",
        "one_hot = one_hot_encode(test_seq, 8)\n",
        "\n",
        "print(one_hot)"
      ],
      "execution_count": 9,
      "outputs": [
        {
          "output_type": "stream",
          "text": [
            "[[[0. 0. 0. 1. 0. 0. 0. 0.]\n",
            "  [0. 0. 0. 0. 0. 1. 0. 0.]\n",
            "  [0. 1. 0. 0. 0. 0. 0. 0.]]]\n"
          ],
          "name": "stdout"
        }
      ]
    },
    {
      "cell_type": "markdown",
      "metadata": {
        "id": "cCAf8gIqsaI3",
        "colab_type": "text"
      },
      "source": [
        "## Making training mini-batches\n",
        "\n",
        "\n",
        "To train on this data, we also want to create mini-batches for training. Remember that we want our batches to be multiple sequences of some desired number of sequence steps. Considering a simple example, our batches would look like this:\n",
        "\n",
        "<img src=\"https://github.com/karanchhabra99/deep-learning-v2-pytorch/blob/master/recurrent-neural-networks/char-rnn/assets/sequence_batching@1x.png?raw=1\" width=500px>\n",
        "\n",
        "\n",
        "<br>\n",
        "\n",
        "In this example, we'll take the encoded characters (passed in as the `arr` parameter) and split them into multiple sequences, given by `batch_size`. Each of our sequences will be `seq_length` long.\n",
        "\n",
        "### Creating Batches\n",
        "\n",
        "**1. The first thing we need to do is discard some of the text so we only have completely full mini-batches. **\n",
        "\n",
        "Each batch contains $N \\times M$ characters, where $N$ is the batch size (the number of sequences in a batch) and $M$ is the seq_length or number of time steps in a sequence. Then, to get the total number of batches, $K$, that we can make from the array `arr`, you divide the length of `arr` by the number of characters per batch. Once you know the number of batches, you can get the total number of characters to keep from `arr`, $N * M * K$.\n",
        "\n",
        "**2. After that, we need to split `arr` into $N$ batches. ** \n",
        "\n",
        "You can do this using `arr.reshape(size)` where `size` is a tuple containing the dimensions sizes of the reshaped array. We know we want $N$ sequences in a batch, so let's make that the size of the first dimension. For the second dimension, you can use `-1` as a placeholder in the size, it'll fill up the array with the appropriate data for you. After this, you should have an array that is $N \\times (M * K)$.\n",
        "\n",
        "**3. Now that we have this array, we can iterate through it to get our mini-batches. **\n",
        "\n",
        "The idea is each batch is a $N \\times M$ window on the $N \\times (M * K)$ array. For each subsequent batch, the window moves over by `seq_length`. We also want to create both the input and target arrays. Remember that the targets are just the inputs shifted over by one character. The way I like to do this window is use `range` to take steps of size `n_steps` from $0$ to `arr.shape[1]`, the total number of tokens in each sequence. That way, the integers you get from `range` always point to the start of a batch, and each window is `seq_length` wide.\n",
        "\n",
        "> **TODO:** Write the code for creating batches in the function below. The exercises in this notebook _will not be easy_. I've provided a notebook with solutions alongside this notebook. If you get stuck, checkout the solutions. The most important thing is that you don't copy and paste the code into here, **type out the solution code yourself.**"
      ]
    },
    {
      "cell_type": "code",
      "metadata": {
        "id": "w-tq5On4saI4",
        "colab_type": "code",
        "colab": {}
      },
      "source": [
        "def get_batches(arr, batch_size, seq_length):\n",
        "    '''Create a generator that returns batches of size\n",
        "       batch_size x seq_length from arr.\n",
        "       \n",
        "       Arguments\n",
        "       ---------\n",
        "       arr: Array you want to make batches from\n",
        "       batch_size: Batch size, the number of sequences per batch\n",
        "       seq_length: Number of encoded chars in a sequence\n",
        "    '''\n",
        "    \n",
        "    total_characters_mini = batch_size *seq_length\n",
        "    ## TODO: Get the number of batches we can make\n",
        "    n_batches = len(arr)//total_characters_mini\n",
        "    \n",
        "    ## TODO: Keep only enough characters to make full batches\n",
        "    arr = arr[:n_batches * total_characters_mini]\n",
        "    \n",
        "    ## TODO: Reshape into batch_size rows\n",
        "    arr = arr.reshape((batch_size, -1))\n",
        "    \n",
        "    ## TODO: Iterate over the batches using a window of size seq_length\n",
        "    for n in range(0, arr.shape[1], seq_length):\n",
        "        # The features\n",
        "        x = arr[:, n:n+seq_length]\n",
        "        # The targets, shifted by one\n",
        "        y = np.zeros_like(x)\n",
        "\n",
        "        try:\n",
        "          y[:,:-1], y[:,-1] = x[:, 1:], arr[:, n+seq_length]\n",
        "        except IndexError:\n",
        "          y[:, : -1], y[:,-1] =x[:,1:], arr[:, 0]\n",
        "        yield x, y"
      ],
      "execution_count": 10,
      "outputs": []
    },
    {
      "cell_type": "markdown",
      "metadata": {
        "id": "gEG9_P01saI-",
        "colab_type": "text"
      },
      "source": [
        "### Test Your Implementation\n",
        "\n",
        "Now I'll make some data sets and we can check out what's going on as we batch data. Here, as an example, I'm going to use a batch size of 8 and 50 sequence steps."
      ]
    },
    {
      "cell_type": "code",
      "metadata": {
        "id": "tdFFUhkWsaJA",
        "colab_type": "code",
        "colab": {}
      },
      "source": [
        "batches = get_batches(encoded, 8, 50)\n",
        "x, y = next(batches)"
      ],
      "execution_count": 11,
      "outputs": []
    },
    {
      "cell_type": "code",
      "metadata": {
        "id": "WrM4AgHxsaJG",
        "colab_type": "code",
        "colab": {
          "base_uri": "https://localhost:8080/",
          "height": 351
        },
        "outputId": "ff705d32-ea33-4ea8-b44b-ae610db141a6"
      },
      "source": [
        "# printing out the first 10 items in a sequence\n",
        "print('x\\n', x[:10, :10])\n",
        "print('\\ny\\n', y[:10, :10])"
      ],
      "execution_count": 12,
      "outputs": [
        {
          "output_type": "stream",
          "text": [
            "x\n",
            " [[51 68 41  5 26 55 76 10 27 73]\n",
            " [73 41 31 76 55 41 23 16 10 68]\n",
            " [10  6 12 10 68  6 46 10 31 36]\n",
            " [55 12 37 10  3 68 55 12 32 10]\n",
            " [59 55 31 26 10 26 68 41 26 10]\n",
            " [36 12 55 16 10 59 36 76 10 26]\n",
            " [59 59 10  6 12 26 36 10 59 36]\n",
            " [10 41 26 10  6 26 32 10 12 36]]\n",
            "\n",
            "y\n",
            " [[68 41  5 26 55 76 10 27 73 73]\n",
            " [41 31 76 55 41 23 16 10 68 55]\n",
            " [ 6 12 10 68  6 46 10 31 36  8]\n",
            " [12 37 10  3 68 55 12 32 10 41]\n",
            " [55 31 26 10 26 68 41 26 10 68]\n",
            " [12 55 16 10 59 36 76 10 26 68]\n",
            " [59 10  6 12 26 36 10 59 36 76]\n",
            " [41 26 10  6 26 32 10 12 36 76]]\n"
          ],
          "name": "stdout"
        }
      ]
    },
    {
      "cell_type": "markdown",
      "metadata": {
        "id": "DPUtlHbjsaJN",
        "colab_type": "text"
      },
      "source": [
        "If you implemented `get_batches` correctly, the above output should look something like \n",
        "```\n",
        "x\n",
        " [[25  8 60 11 45 27 28 73  1  2]\n",
        " [17  7 20 73 45  8 60 45 73 60]\n",
        " [27 20 80 73  7 28 73 60 73 65]\n",
        " [17 73 45  8 27 73 66  8 46 27]\n",
        " [73 17 60 12 73  8 27 28 73 45]\n",
        " [66 64 17 17 46  7 20 73 60 20]\n",
        " [73 76 20 20 60 73  8 60 80 73]\n",
        " [47 35 43  7 20 17 24 50 37 73]]\n",
        "\n",
        "y\n",
        " [[ 8 60 11 45 27 28 73  1  2  2]\n",
        " [ 7 20 73 45  8 60 45 73 60 45]\n",
        " [20 80 73  7 28 73 60 73 65  7]\n",
        " [73 45  8 27 73 66  8 46 27 65]\n",
        " [17 60 12 73  8 27 28 73 45 27]\n",
        " [64 17 17 46  7 20 73 60 20 80]\n",
        " [76 20 20 60 73  8 60 80 73 17]\n",
        " [35 43  7 20 17 24 50 37 73 36]]\n",
        " ```\n",
        " although the exact numbers may be different. Check to make sure the data is shifted over one step for `y`."
      ]
    },
    {
      "cell_type": "markdown",
      "metadata": {
        "id": "jhZUDXVXsaJP",
        "colab_type": "text"
      },
      "source": [
        "---\n",
        "## Defining the network with PyTorch\n",
        "\n",
        "Below is where you'll define the network.\n",
        "\n",
        "<img src=\"https://github.com/karanchhabra99/deep-learning-v2-pytorch/blob/master/recurrent-neural-networks/char-rnn/assets/charRNN.png?raw=1\" width=500px>\n",
        "\n",
        "Next, you'll use PyTorch to define the architecture of the network. We start by defining the layers and operations we want. Then, define a method for the forward pass. You've also been given a method for predicting characters."
      ]
    },
    {
      "cell_type": "markdown",
      "metadata": {
        "id": "aRkg3505saJQ",
        "colab_type": "text"
      },
      "source": [
        "### Model Structure\n",
        "\n",
        "In `__init__` the suggested structure is as follows:\n",
        "* Create and store the necessary dictionaries (this has been done for you)\n",
        "* Define an LSTM layer that takes as params: an input size (the number of characters), a hidden layer size `n_hidden`, a number of layers `n_layers`, a dropout probability `drop_prob`, and a batch_first boolean (True, since we are batching)\n",
        "* Define a dropout layer with `drop_prob`\n",
        "* Define a fully-connected layer with params: input size `n_hidden` and output size (the number of characters)\n",
        "* Finally, initialize the weights (again, this has been given)\n",
        "\n",
        "Note that some parameters have been named and given in the `__init__` function, and we use them and store them by doing something like `self.drop_prob = drop_prob`."
      ]
    },
    {
      "cell_type": "markdown",
      "metadata": {
        "id": "v_jPX4NRsaJR",
        "colab_type": "text"
      },
      "source": [
        "---\n",
        "### LSTM Inputs/Outputs\n",
        "\n",
        "You can create a basic [LSTM layer](https://pytorch.org/docs/stable/nn.html#lstm) as follows\n",
        "\n",
        "```python\n",
        "self.lstm = nn.LSTM(input_size, n_hidden, n_layers, \n",
        "                            dropout=drop_prob, batch_first=True)\n",
        "```\n",
        "\n",
        "where `input_size` is the number of characters this cell expects to see as sequential input, and `n_hidden` is the number of units in the hidden layers in the cell. And we can add dropout by adding a dropout parameter with a specified probability; this will automatically add dropout to the inputs or outputs. Finally, in the `forward` function, we can stack up the LSTM cells into layers using `.view`. With this, you pass in a list of cells and it will send the output of one cell into the next cell.\n",
        "\n",
        "We also need to create an initial hidden state of all zeros. This is done like so\n",
        "\n",
        "```python\n",
        "self.init_hidden()\n",
        "```"
      ]
    },
    {
      "cell_type": "code",
      "metadata": {
        "id": "xQJwb1UgsaJS",
        "colab_type": "code",
        "colab": {
          "base_uri": "https://localhost:8080/",
          "height": 34
        },
        "outputId": "4cea35af-29b0-416f-c701-9046da382874"
      },
      "source": [
        "# check if GPU is available\n",
        "train_on_gpu = torch.cuda.is_available()\n",
        "if(train_on_gpu):\n",
        "    print('Training on GPU!')\n",
        "else: \n",
        "    print('No GPU available, training on CPU; consider making n_epochs very small.')"
      ],
      "execution_count": 13,
      "outputs": [
        {
          "output_type": "stream",
          "text": [
            "Training on GPU!\n"
          ],
          "name": "stdout"
        }
      ]
    },
    {
      "cell_type": "code",
      "metadata": {
        "id": "vPJz2s53saJZ",
        "colab_type": "code",
        "colab": {}
      },
      "source": [
        "class CharRNN(nn.Module):\n",
        "    \n",
        "    def __init__(self, tokens, n_hidden=256, n_layers=2,\n",
        "                               drop_prob=0.5, lr=0.001):\n",
        "        super().__init__()\n",
        "        self.drop_prob = drop_prob\n",
        "        self.n_layers = n_layers\n",
        "        self.n_hidden = n_hidden\n",
        "        self.lr = lr\n",
        "        \n",
        "        # creating character dictionaries\n",
        "        self.chars = tokens\n",
        "        self.int2char = dict(enumerate(self.chars))\n",
        "        self.char2int = {ch: ii for ii, ch in self.int2char.items()}\n",
        "        \n",
        "        ## TODO: define the layers of the model\n",
        "        self.lstm = nn.LSTM(len(self.chars), n_hidden, n_layers, dropout = self.drop_prob, batch_first = True)\n",
        "        self.dropout = nn.Dropout(p =drop_prob)\n",
        "        self.fc = nn.Linear(n_hidden, len(self.chars))\n",
        "      \n",
        "    \n",
        "    def forward(self, x, hidden):\n",
        "        ''' Forward pass through the network. \n",
        "            These inputs are x, and the hidden/cell state `hidden`. '''\n",
        "                \n",
        "        ## TODO: Get the outputs and the new hidden state from the lstm\n",
        "        r_output, hidden = self.lstm(x, hidden)\n",
        "        \n",
        "        ## TODO: pass through a dropout layer\n",
        "        out = self.dropout(r_output)\n",
        "        \n",
        "        # Stack up LSTM outputs using view\n",
        "        # you may need to use contiguous to reshape the output\n",
        "        out = out.contiguous().view(-1, self.n_hidden)\n",
        "        \n",
        "        ## TODO: put x through the fully-connected layer\n",
        "        out = self.fc(out)\n",
        "        \n",
        "        # return the final output and the hidden state\n",
        "        return out, hidden\n",
        "    \n",
        "    \n",
        "    def init_hidden(self, batch_size):\n",
        "        ''' Initializes hidden state '''\n",
        "        # Create two new tensors with sizes n_layers x batch_size x n_hidden,\n",
        "        # initialized to zero, for hidden state and cell state of LSTM\n",
        "        weight = next(self.parameters()).data\n",
        "        \n",
        "        if (train_on_gpu):\n",
        "            hidden = (weight.new(self.n_layers, batch_size, self.n_hidden).zero_().cuda(),\n",
        "                  weight.new(self.n_layers, batch_size, self.n_hidden).zero_().cuda())\n",
        "        else:\n",
        "            hidden = (weight.new(self.n_layers, batch_size, self.n_hidden).zero_(),\n",
        "                      weight.new(self.n_layers, batch_size, self.n_hidden).zero_())\n",
        "        \n",
        "        return hidden\n",
        "        "
      ],
      "execution_count": 45,
      "outputs": []
    },
    {
      "cell_type": "markdown",
      "metadata": {
        "id": "zFP7JPy4saJi",
        "colab_type": "text"
      },
      "source": [
        "## Time to train\n",
        "\n",
        "The train function gives us the ability to set the number of epochs, the learning rate, and other parameters.\n",
        "\n",
        "Below we're using an Adam optimizer and cross entropy loss since we are looking at character class scores as output. We calculate the loss and perform backpropagation, as usual!\n",
        "\n",
        "A couple of details about training: \n",
        ">* Within the batch loop, we detach the hidden state from its history; this time setting it equal to a new *tuple* variable because an LSTM has a hidden state that is a tuple of the hidden and cell states.\n",
        "* We use [`clip_grad_norm_`](https://pytorch.org/docs/stable/_modules/torch/nn/utils/clip_grad.html) to help prevent exploding gradients."
      ]
    },
    {
      "cell_type": "code",
      "metadata": {
        "id": "fn6PVivqsaJj",
        "colab_type": "code",
        "colab": {}
      },
      "source": [
        "def train(net, data, epochs=10, batch_size=10, seq_length=50, lr=0.001, clip=5, val_frac=0.1, print_every=10):\n",
        "    ''' Training a network \n",
        "    \n",
        "        Arguments\n",
        "        ---------\n",
        "        \n",
        "        net: CharRNN network\n",
        "        data: text data to train the network\n",
        "        epochs: Number of epochs to train\n",
        "        batch_size: Number of mini-sequences per mini-batch, aka batch size\n",
        "        seq_length: Number of character steps per mini-batch\n",
        "        lr: learning rate\n",
        "        clip: gradient clipping\n",
        "        val_frac: Fraction of data to hold out for validation\n",
        "        print_every: Number of steps for printing training and validation loss\n",
        "    \n",
        "    '''\n",
        "    net.train()\n",
        "    \n",
        "    opt = torch.optim.Adam(net.parameters(), lr=lr)\n",
        "    criterion = nn.CrossEntropyLoss()\n",
        "    \n",
        "    # create training and validation data\n",
        "    val_idx = int(len(data)*(1-val_frac))\n",
        "    data, val_data = data[:val_idx], data[val_idx:]\n",
        "    \n",
        "    if(train_on_gpu):\n",
        "        net.cuda()\n",
        "    \n",
        "    counter = 0\n",
        "    n_chars = len(net.chars)\n",
        "    for e in range(epochs):\n",
        "        # initialize hidden state\n",
        "        h = net.init_hidden(batch_size)\n",
        "        \n",
        "        for x, y in get_batches(data, batch_size, seq_length):\n",
        "            counter += 1\n",
        "            \n",
        "            # One-hot encode our data and make them Torch tensors\n",
        "            x = one_hot_encode(x, n_chars)\n",
        "            inputs, targets = torch.from_numpy(x), torch.from_numpy(y)\n",
        "            \n",
        "            if(train_on_gpu):\n",
        "                inputs, targets = inputs.cuda(), targets.cuda()\n",
        "\n",
        "            # Creating new variables for the hidden state, otherwise\n",
        "            # we'd backprop through the entire training history\n",
        "            h = tuple([each.data for each in h])\n",
        "\n",
        "            # zero accumulated gradients\n",
        "            net.zero_grad()\n",
        "            \n",
        "            # get the output from the model\n",
        "            output, h = net(inputs, h)\n",
        "            \n",
        "            # calculate the loss and perform backprop\n",
        "            loss = criterion(output, targets.view(batch_size*seq_length).long())\n",
        "            loss.backward()\n",
        "            # `clip_grad_norm` helps prevent the exploding gradient problem in RNNs / LSTMs.\n",
        "            nn.utils.clip_grad_norm_(net.parameters(), clip)\n",
        "            opt.step()\n",
        "            \n",
        "            # loss stats\n",
        "            if counter % print_every == 0:\n",
        "                # Get validation loss\n",
        "                val_h = net.init_hidden(batch_size)\n",
        "                val_losses = []\n",
        "                net.eval()\n",
        "                for x, y in get_batches(val_data, batch_size, seq_length):\n",
        "                    # One-hot encode our data and make them Torch tensors\n",
        "                    x = one_hot_encode(x, n_chars)\n",
        "                    x, y = torch.from_numpy(x), torch.from_numpy(y)\n",
        "                    \n",
        "                    # Creating new variables for the hidden state, otherwise\n",
        "                    # we'd backprop through the entire training history\n",
        "                    val_h = tuple([each.data for each in val_h])\n",
        "                    \n",
        "                    inputs, targets = x, y\n",
        "                    if(train_on_gpu):\n",
        "                        inputs, targets = inputs.cuda(), targets.cuda()\n",
        "\n",
        "                    output, val_h = net(inputs, val_h)\n",
        "                    val_loss = criterion(output, targets.view(batch_size*seq_length).long())\n",
        "                \n",
        "                    val_losses.append(val_loss.item())\n",
        "                \n",
        "                net.train() # reset to train mode after iterationg through validation data\n",
        "                \n",
        "                print(\"Epoch: {}/{}...\".format(e+1, epochs),\n",
        "                      \"Step: {}...\".format(counter),\n",
        "                      \"Loss: {:.4f}...\".format(loss.item()),\n",
        "                      \"Val Loss: {:.4f}\".format(np.mean(val_losses)))"
      ],
      "execution_count": 46,
      "outputs": []
    },
    {
      "cell_type": "markdown",
      "metadata": {
        "id": "gj7A_digsaJq",
        "colab_type": "text"
      },
      "source": [
        "## Instantiating the model\n",
        "\n",
        "Now we can actually train the network. First we'll create the network itself, with some given hyperparameters. Then, define the mini-batches sizes, and start training!"
      ]
    },
    {
      "cell_type": "code",
      "metadata": {
        "id": "-lGOe1eCsaJr",
        "colab_type": "code",
        "colab": {
          "base_uri": "https://localhost:8080/",
          "height": 105
        },
        "outputId": "514d91ad-1d6c-438f-a671-c04c43a168c3"
      },
      "source": [
        "## TODO: set your model hyperparameters\n",
        "# define and print the net\n",
        "n_hidden= 512\n",
        "n_layers = 2\n",
        "\n",
        "net = CharRNN(chars, n_hidden, n_layers)\n",
        "print(net)"
      ],
      "execution_count": 47,
      "outputs": [
        {
          "output_type": "stream",
          "text": [
            "CharRNN(\n",
            "  (lstm): LSTM(77, 512, num_layers=2, batch_first=True, dropout=0.5)\n",
            "  (dropout): Dropout(p=0.5, inplace=False)\n",
            "  (fc): Linear(in_features=512, out_features=77, bias=True)\n",
            ")\n"
          ],
          "name": "stdout"
        }
      ]
    },
    {
      "cell_type": "markdown",
      "metadata": {
        "id": "GM-H9hEpsaJ0",
        "colab_type": "text"
      },
      "source": [
        "### Set your training hyperparameters!"
      ]
    },
    {
      "cell_type": "code",
      "metadata": {
        "scrolled": true,
        "id": "vI1KVzMNsaJ1",
        "colab_type": "code",
        "colab": {
          "base_uri": "https://localhost:8080/",
          "height": 1000
        },
        "outputId": "9ef17b38-3be8-4a83-ef37-60f29abadc2d"
      },
      "source": [
        "batch_size = 128\n",
        "seq_length = 50\n",
        "n_epochs =  20# start small if you are just testing initial behavior\n",
        "\n",
        "# train the model\n",
        "train(net, encoded, epochs=n_epochs, batch_size=batch_size, seq_length=seq_length, lr=0.001, print_every=10)"
      ],
      "execution_count": 50,
      "outputs": [
        {
          "output_type": "stream",
          "text": [
            "Epoch: 1/20... Step: 10... Loss: 1.0755... Val Loss: 1.1438\n",
            "Epoch: 1/20... Step: 20... Loss: 1.1107... Val Loss: 1.1403\n",
            "Epoch: 1/20... Step: 30... Loss: 1.1310... Val Loss: 1.1385\n",
            "Epoch: 1/20... Step: 40... Loss: 1.1247... Val Loss: 1.1392\n",
            "Epoch: 1/20... Step: 50... Loss: 1.1519... Val Loss: 1.1372\n",
            "Epoch: 1/20... Step: 60... Loss: 1.0973... Val Loss: 1.1367\n",
            "Epoch: 1/20... Step: 70... Loss: 1.1049... Val Loss: 1.1379\n",
            "Epoch: 1/20... Step: 80... Loss: 1.1100... Val Loss: 1.1362\n",
            "Epoch: 1/20... Step: 90... Loss: 1.1065... Val Loss: 1.1357\n",
            "Epoch: 1/20... Step: 100... Loss: 1.0942... Val Loss: 1.1347\n",
            "Epoch: 1/20... Step: 110... Loss: 1.0910... Val Loss: 1.1342\n",
            "Epoch: 1/20... Step: 120... Loss: 1.0784... Val Loss: 1.1356\n",
            "Epoch: 1/20... Step: 130... Loss: 1.1042... Val Loss: 1.1376\n",
            "Epoch: 1/20... Step: 140... Loss: 1.1252... Val Loss: 1.1357\n",
            "Epoch: 1/20... Step: 150... Loss: 1.0943... Val Loss: 1.1356\n",
            "Epoch: 1/20... Step: 160... Loss: 1.1018... Val Loss: 1.1353\n",
            "Epoch: 1/20... Step: 170... Loss: 1.0918... Val Loss: 1.1352\n",
            "Epoch: 1/20... Step: 180... Loss: 1.1180... Val Loss: 1.1348\n",
            "Epoch: 2/20... Step: 190... Loss: 1.2549... Val Loss: 1.1346\n",
            "Epoch: 2/20... Step: 200... Loss: 1.0885... Val Loss: 1.1371\n",
            "Epoch: 2/20... Step: 210... Loss: 1.1179... Val Loss: 1.1361\n",
            "Epoch: 2/20... Step: 220... Loss: 1.1275... Val Loss: 1.1341\n",
            "Epoch: 2/20... Step: 230... Loss: 1.0933... Val Loss: 1.1350\n",
            "Epoch: 2/20... Step: 240... Loss: 1.1546... Val Loss: 1.1328\n",
            "Epoch: 2/20... Step: 250... Loss: 1.0777... Val Loss: 1.1357\n",
            "Epoch: 2/20... Step: 260... Loss: 1.0937... Val Loss: 1.1368\n",
            "Epoch: 2/20... Step: 270... Loss: 1.0844... Val Loss: 1.1366\n",
            "Epoch: 2/20... Step: 280... Loss: 1.0983... Val Loss: 1.1352\n",
            "Epoch: 2/20... Step: 290... Loss: 1.1047... Val Loss: 1.1369\n",
            "Epoch: 2/20... Step: 300... Loss: 1.0958... Val Loss: 1.1338\n",
            "Epoch: 2/20... Step: 310... Loss: 1.1013... Val Loss: 1.1351\n",
            "Epoch: 2/20... Step: 320... Loss: 1.1249... Val Loss: 1.1359\n",
            "Epoch: 2/20... Step: 330... Loss: 1.1575... Val Loss: 1.1369\n",
            "Epoch: 2/20... Step: 340... Loss: 1.1143... Val Loss: 1.1368\n",
            "Epoch: 2/20... Step: 350... Loss: 1.0930... Val Loss: 1.1370\n",
            "Epoch: 2/20... Step: 360... Loss: 1.0817... Val Loss: 1.1357\n",
            "Epoch: 2/20... Step: 370... Loss: 1.0608... Val Loss: 1.1360\n",
            "Epoch: 3/20... Step: 380... Loss: 1.0778... Val Loss: 1.1355\n",
            "Epoch: 3/20... Step: 390... Loss: 1.0890... Val Loss: 1.1377\n",
            "Epoch: 3/20... Step: 400... Loss: 1.0803... Val Loss: 1.1357\n",
            "Epoch: 3/20... Step: 410... Loss: 1.0642... Val Loss: 1.1343\n",
            "Epoch: 3/20... Step: 420... Loss: 1.0596... Val Loss: 1.1366\n",
            "Epoch: 3/20... Step: 430... Loss: 1.1200... Val Loss: 1.1344\n",
            "Epoch: 3/20... Step: 440... Loss: 1.0664... Val Loss: 1.1338\n",
            "Epoch: 3/20... Step: 450... Loss: 1.0848... Val Loss: 1.1335\n",
            "Epoch: 3/20... Step: 460... Loss: 1.0869... Val Loss: 1.1343\n",
            "Epoch: 3/20... Step: 470... Loss: 1.0842... Val Loss: 1.1347\n",
            "Epoch: 3/20... Step: 480... Loss: 1.0701... Val Loss: 1.1351\n",
            "Epoch: 3/20... Step: 490... Loss: 1.0769... Val Loss: 1.1327\n",
            "Epoch: 3/20... Step: 500... Loss: 1.0666... Val Loss: 1.1358\n",
            "Epoch: 3/20... Step: 510... Loss: 1.0984... Val Loss: 1.1370\n",
            "Epoch: 3/20... Step: 520... Loss: 1.0984... Val Loss: 1.1371\n",
            "Epoch: 3/20... Step: 530... Loss: 1.0911... Val Loss: 1.1364\n",
            "Epoch: 3/20... Step: 540... Loss: 1.0987... Val Loss: 1.1385\n",
            "Epoch: 3/20... Step: 550... Loss: 1.1091... Val Loss: 1.1357\n",
            "Epoch: 3/20... Step: 560... Loss: 1.0989... Val Loss: 1.1369\n",
            "Epoch: 4/20... Step: 570... Loss: 1.0858... Val Loss: 1.1344\n",
            "Epoch: 4/20... Step: 580... Loss: 1.1170... Val Loss: 1.1356\n",
            "Epoch: 4/20... Step: 590... Loss: 1.0780... Val Loss: 1.1353\n",
            "Epoch: 4/20... Step: 600... Loss: 1.0849... Val Loss: 1.1343\n",
            "Epoch: 4/20... Step: 610... Loss: 1.0917... Val Loss: 1.1364\n",
            "Epoch: 4/20... Step: 620... Loss: 1.0908... Val Loss: 1.1334\n",
            "Epoch: 4/20... Step: 630... Loss: 1.0752... Val Loss: 1.1361\n",
            "Epoch: 4/20... Step: 640... Loss: 1.1045... Val Loss: 1.1354\n",
            "Epoch: 4/20... Step: 650... Loss: 1.1055... Val Loss: 1.1371\n",
            "Epoch: 4/20... Step: 660... Loss: 1.1016... Val Loss: 1.1363\n",
            "Epoch: 4/20... Step: 670... Loss: 1.0590... Val Loss: 1.1350\n",
            "Epoch: 4/20... Step: 680... Loss: 1.0674... Val Loss: 1.1334\n",
            "Epoch: 4/20... Step: 690... Loss: 1.0779... Val Loss: 1.1368\n",
            "Epoch: 4/20... Step: 700... Loss: 1.0764... Val Loss: 1.1364\n",
            "Epoch: 4/20... Step: 710... Loss: 1.0670... Val Loss: 1.1356\n",
            "Epoch: 4/20... Step: 720... Loss: 1.0842... Val Loss: 1.1370\n",
            "Epoch: 4/20... Step: 730... Loss: 1.0821... Val Loss: 1.1384\n",
            "Epoch: 4/20... Step: 740... Loss: 1.0886... Val Loss: 1.1361\n",
            "Epoch: 4/20... Step: 750... Loss: 1.1019... Val Loss: 1.1357\n",
            "Epoch: 5/20... Step: 760... Loss: 1.1041... Val Loss: 1.1344\n",
            "Epoch: 5/20... Step: 770... Loss: 1.0865... Val Loss: 1.1390\n",
            "Epoch: 5/20... Step: 780... Loss: 1.0679... Val Loss: 1.1381\n",
            "Epoch: 5/20... Step: 790... Loss: 1.0744... Val Loss: 1.1344\n",
            "Epoch: 5/20... Step: 800... Loss: 1.0647... Val Loss: 1.1374\n",
            "Epoch: 5/20... Step: 810... Loss: 1.0748... Val Loss: 1.1340\n",
            "Epoch: 5/20... Step: 820... Loss: 1.0786... Val Loss: 1.1340\n",
            "Epoch: 5/20... Step: 830... Loss: 1.0945... Val Loss: 1.1336\n",
            "Epoch: 5/20... Step: 840... Loss: 1.0822... Val Loss: 1.1352\n",
            "Epoch: 5/20... Step: 850... Loss: 1.0850... Val Loss: 1.1345\n",
            "Epoch: 5/20... Step: 860... Loss: 1.0722... Val Loss: 1.1359\n",
            "Epoch: 5/20... Step: 870... Loss: 1.1076... Val Loss: 1.1330\n",
            "Epoch: 5/20... Step: 880... Loss: 1.1405... Val Loss: 1.1350\n",
            "Epoch: 5/20... Step: 890... Loss: 1.1186... Val Loss: 1.1357\n",
            "Epoch: 5/20... Step: 900... Loss: 1.0677... Val Loss: 1.1362\n",
            "Epoch: 5/20... Step: 910... Loss: 1.0898... Val Loss: 1.1357\n",
            "Epoch: 5/20... Step: 920... Loss: 1.0972... Val Loss: 1.1387\n",
            "Epoch: 5/20... Step: 930... Loss: 1.0577... Val Loss: 1.1369\n",
            "Epoch: 5/20... Step: 940... Loss: 1.0872... Val Loss: 1.1380\n",
            "Epoch: 6/20... Step: 950... Loss: 1.0420... Val Loss: 1.1374\n",
            "Epoch: 6/20... Step: 960... Loss: 1.1138... Val Loss: 1.1405\n",
            "Epoch: 6/20... Step: 970... Loss: 1.0913... Val Loss: 1.1394\n",
            "Epoch: 6/20... Step: 980... Loss: 1.0862... Val Loss: 1.1371\n",
            "Epoch: 6/20... Step: 990... Loss: 1.0578... Val Loss: 1.1370\n",
            "Epoch: 6/20... Step: 1000... Loss: 1.0817... Val Loss: 1.1352\n",
            "Epoch: 6/20... Step: 1010... Loss: 1.0566... Val Loss: 1.1364\n",
            "Epoch: 6/20... Step: 1020... Loss: 1.0812... Val Loss: 1.1363\n",
            "Epoch: 6/20... Step: 1030... Loss: 1.1150... Val Loss: 1.1372\n",
            "Epoch: 6/20... Step: 1040... Loss: 1.1014... Val Loss: 1.1364\n",
            "Epoch: 6/20... Step: 1050... Loss: 1.0624... Val Loss: 1.1361\n",
            "Epoch: 6/20... Step: 1060... Loss: 1.0654... Val Loss: 1.1354\n",
            "Epoch: 6/20... Step: 1070... Loss: 1.0738... Val Loss: 1.1340\n",
            "Epoch: 6/20... Step: 1080... Loss: 1.1165... Val Loss: 1.1384\n",
            "Epoch: 6/20... Step: 1090... Loss: 1.0902... Val Loss: 1.1386\n",
            "Epoch: 6/20... Step: 1100... Loss: 1.1026... Val Loss: 1.1392\n",
            "Epoch: 6/20... Step: 1110... Loss: 1.0895... Val Loss: 1.1377\n",
            "Epoch: 6/20... Step: 1120... Loss: 1.0619... Val Loss: 1.1363\n",
            "Epoch: 6/20... Step: 1130... Loss: 1.0814... Val Loss: 1.1384\n",
            "Epoch: 7/20... Step: 1140... Loss: 1.0636... Val Loss: 1.1405\n",
            "Epoch: 7/20... Step: 1150... Loss: 1.0633... Val Loss: 1.1387\n",
            "Epoch: 7/20... Step: 1160... Loss: 1.0552... Val Loss: 1.1386\n",
            "Epoch: 7/20... Step: 1170... Loss: 1.1283... Val Loss: 1.1379\n",
            "Epoch: 7/20... Step: 1180... Loss: 1.0580... Val Loss: 1.1386\n",
            "Epoch: 7/20... Step: 1190... Loss: 1.0801... Val Loss: 1.1359\n",
            "Epoch: 7/20... Step: 1200... Loss: 1.0687... Val Loss: 1.1388\n",
            "Epoch: 7/20... Step: 1210... Loss: 1.0581... Val Loss: 1.1381\n",
            "Epoch: 7/20... Step: 1220... Loss: 1.1026... Val Loss: 1.1356\n",
            "Epoch: 7/20... Step: 1230... Loss: 1.0519... Val Loss: 1.1378\n",
            "Epoch: 7/20... Step: 1240... Loss: 1.0877... Val Loss: 1.1388\n",
            "Epoch: 7/20... Step: 1250... Loss: 1.0586... Val Loss: 1.1343\n",
            "Epoch: 7/20... Step: 1260... Loss: 1.0423... Val Loss: 1.1368\n",
            "Epoch: 7/20... Step: 1270... Loss: 1.0867... Val Loss: 1.1375\n",
            "Epoch: 7/20... Step: 1280... Loss: 1.0995... Val Loss: 1.1383\n",
            "Epoch: 7/20... Step: 1290... Loss: 1.0948... Val Loss: 1.1378\n",
            "Epoch: 7/20... Step: 1300... Loss: 1.1148... Val Loss: 1.1396\n",
            "Epoch: 7/20... Step: 1310... Loss: 1.0442... Val Loss: 1.1386\n",
            "Epoch: 7/20... Step: 1320... Loss: 1.0996... Val Loss: 1.1383\n",
            "Epoch: 8/20... Step: 1330... Loss: 1.0497... Val Loss: 1.1376\n",
            "Epoch: 8/20... Step: 1340... Loss: 1.0326... Val Loss: 1.1393\n",
            "Epoch: 8/20... Step: 1350... Loss: 1.0727... Val Loss: 1.1400\n",
            "Epoch: 8/20... Step: 1360... Loss: 1.0743... Val Loss: 1.1381\n",
            "Epoch: 8/20... Step: 1370... Loss: 1.0903... Val Loss: 1.1373\n",
            "Epoch: 8/20... Step: 1380... Loss: 1.0602... Val Loss: 1.1375\n",
            "Epoch: 8/20... Step: 1390... Loss: 1.0744... Val Loss: 1.1388\n",
            "Epoch: 8/20... Step: 1400... Loss: 1.0557... Val Loss: 1.1381\n",
            "Epoch: 8/20... Step: 1410... Loss: 1.0510... Val Loss: 1.1359\n",
            "Epoch: 8/20... Step: 1420... Loss: 1.0580... Val Loss: 1.1375\n",
            "Epoch: 8/20... Step: 1430... Loss: 1.0878... Val Loss: 1.1397\n",
            "Epoch: 8/20... Step: 1440... Loss: 1.0392... Val Loss: 1.1365\n",
            "Epoch: 8/20... Step: 1450... Loss: 1.0665... Val Loss: 1.1396\n",
            "Epoch: 8/20... Step: 1460... Loss: 1.0549... Val Loss: 1.1426\n",
            "Epoch: 8/20... Step: 1470... Loss: 1.0749... Val Loss: 1.1409\n",
            "Epoch: 8/20... Step: 1480... Loss: 1.0838... Val Loss: 1.1384\n",
            "Epoch: 8/20... Step: 1490... Loss: 1.0520... Val Loss: 1.1420\n",
            "Epoch: 8/20... Step: 1500... Loss: 1.0795... Val Loss: 1.1393\n",
            "Epoch: 8/20... Step: 1510... Loss: 1.0644... Val Loss: 1.1383\n",
            "Epoch: 9/20... Step: 1520... Loss: 1.0427... Val Loss: 1.1428\n",
            "Epoch: 9/20... Step: 1530... Loss: 1.0575... Val Loss: 1.1389\n",
            "Epoch: 9/20... Step: 1540... Loss: 1.0521... Val Loss: 1.1383\n",
            "Epoch: 9/20... Step: 1550... Loss: 1.0765... Val Loss: 1.1381\n",
            "Epoch: 9/20... Step: 1560... Loss: 1.1137... Val Loss: 1.1395\n",
            "Epoch: 9/20... Step: 1570... Loss: 1.0886... Val Loss: 1.1391\n",
            "Epoch: 9/20... Step: 1580... Loss: 1.0523... Val Loss: 1.1379\n",
            "Epoch: 9/20... Step: 1590... Loss: 1.0378... Val Loss: 1.1398\n",
            "Epoch: 9/20... Step: 1600... Loss: 1.0396... Val Loss: 1.1389\n",
            "Epoch: 9/20... Step: 1610... Loss: 1.0621... Val Loss: 1.1404\n",
            "Epoch: 9/20... Step: 1620... Loss: 1.0558... Val Loss: 1.1393\n",
            "Epoch: 9/20... Step: 1630... Loss: 1.0553... Val Loss: 1.1387\n",
            "Epoch: 9/20... Step: 1640... Loss: 1.0549... Val Loss: 1.1401\n",
            "Epoch: 9/20... Step: 1650... Loss: 1.0909... Val Loss: 1.1422\n",
            "Epoch: 9/20... Step: 1660... Loss: 1.0476... Val Loss: 1.1422\n",
            "Epoch: 9/20... Step: 1670... Loss: 1.0762... Val Loss: 1.1405\n",
            "Epoch: 9/20... Step: 1680... Loss: 1.0463... Val Loss: 1.1412\n",
            "Epoch: 9/20... Step: 1690... Loss: 1.0440... Val Loss: 1.1403\n",
            "Epoch: 9/20... Step: 1700... Loss: 1.0785... Val Loss: 1.1413\n",
            "Epoch: 10/20... Step: 1710... Loss: 1.0406... Val Loss: 1.1431\n",
            "Epoch: 10/20... Step: 1720... Loss: 1.0542... Val Loss: 1.1418\n",
            "Epoch: 10/20... Step: 1730... Loss: 1.0746... Val Loss: 1.1417\n",
            "Epoch: 10/20... Step: 1740... Loss: 1.0421... Val Loss: 1.1416\n",
            "Epoch: 10/20... Step: 1750... Loss: 1.0887... Val Loss: 1.1406\n",
            "Epoch: 10/20... Step: 1760... Loss: 1.1069... Val Loss: 1.1398\n",
            "Epoch: 10/20... Step: 1770... Loss: 1.0781... Val Loss: 1.1409\n",
            "Epoch: 10/20... Step: 1780... Loss: 1.0399... Val Loss: 1.1423\n",
            "Epoch: 10/20... Step: 1790... Loss: 1.0941... Val Loss: 1.1409\n",
            "Epoch: 10/20... Step: 1800... Loss: 1.0871... Val Loss: 1.1412\n",
            "Epoch: 10/20... Step: 1810... Loss: 1.0588... Val Loss: 1.1415\n",
            "Epoch: 10/20... Step: 1820... Loss: 1.0435... Val Loss: 1.1397\n",
            "Epoch: 10/20... Step: 1830... Loss: 1.0640... Val Loss: 1.1398\n",
            "Epoch: 10/20... Step: 1840... Loss: 1.0652... Val Loss: 1.1436\n",
            "Epoch: 10/20... Step: 1850... Loss: 1.0303... Val Loss: 1.1404\n",
            "Epoch: 10/20... Step: 1860... Loss: 1.0925... Val Loss: 1.1410\n",
            "Epoch: 10/20... Step: 1870... Loss: 1.0456... Val Loss: 1.1451\n",
            "Epoch: 10/20... Step: 1880... Loss: 1.0696... Val Loss: 1.1422\n",
            "Epoch: 10/20... Step: 1890... Loss: 1.1999... Val Loss: 1.1407\n",
            "Epoch: 11/20... Step: 1900... Loss: 1.0353... Val Loss: 1.1460\n",
            "Epoch: 11/20... Step: 1910... Loss: 1.0580... Val Loss: 1.1409\n",
            "Epoch: 11/20... Step: 1920... Loss: 1.0605... Val Loss: 1.1418\n",
            "Epoch: 11/20... Step: 1930... Loss: 1.0728... Val Loss: 1.1409\n",
            "Epoch: 11/20... Step: 1940... Loss: 1.0957... Val Loss: 1.1401\n",
            "Epoch: 11/20... Step: 1950... Loss: 1.0474... Val Loss: 1.1415\n",
            "Epoch: 11/20... Step: 1960... Loss: 1.0596... Val Loss: 1.1410\n",
            "Epoch: 11/20... Step: 1970... Loss: 1.0481... Val Loss: 1.1418\n",
            "Epoch: 11/20... Step: 1980... Loss: 1.0511... Val Loss: 1.1388\n",
            "Epoch: 11/20... Step: 1990... Loss: 1.0376... Val Loss: 1.1422\n",
            "Epoch: 11/20... Step: 2000... Loss: 1.0586... Val Loss: 1.1412\n",
            "Epoch: 11/20... Step: 2010... Loss: 1.0377... Val Loss: 1.1428\n",
            "Epoch: 11/20... Step: 2020... Loss: 1.0524... Val Loss: 1.1440\n",
            "Epoch: 11/20... Step: 2030... Loss: 1.0602... Val Loss: 1.1444\n",
            "Epoch: 11/20... Step: 2040... Loss: 1.0315... Val Loss: 1.1450\n",
            "Epoch: 11/20... Step: 2050... Loss: 1.0583... Val Loss: 1.1405\n",
            "Epoch: 11/20... Step: 2060... Loss: 1.0361... Val Loss: 1.1420\n",
            "Epoch: 11/20... Step: 2070... Loss: 1.0624... Val Loss: 1.1418\n",
            "Epoch: 12/20... Step: 2080... Loss: 1.1972... Val Loss: 1.1407\n",
            "Epoch: 12/20... Step: 2090... Loss: 1.0340... Val Loss: 1.1501\n",
            "Epoch: 12/20... Step: 2100... Loss: 1.0850... Val Loss: 1.1408\n",
            "Epoch: 12/20... Step: 2110... Loss: 1.0671... Val Loss: 1.1435\n",
            "Epoch: 12/20... Step: 2120... Loss: 1.0573... Val Loss: 1.1444\n",
            "Epoch: 12/20... Step: 2130... Loss: 1.0939... Val Loss: 1.1394\n",
            "Epoch: 12/20... Step: 2140... Loss: 1.0335... Val Loss: 1.1406\n",
            "Epoch: 12/20... Step: 2150... Loss: 1.0505... Val Loss: 1.1424\n",
            "Epoch: 12/20... Step: 2160... Loss: 1.0411... Val Loss: 1.1424\n",
            "Epoch: 12/20... Step: 2170... Loss: 1.0525... Val Loss: 1.1417\n",
            "Epoch: 12/20... Step: 2180... Loss: 1.0580... Val Loss: 1.1434\n",
            "Epoch: 12/20... Step: 2190... Loss: 1.0389... Val Loss: 1.1409\n",
            "Epoch: 12/20... Step: 2200... Loss: 1.0505... Val Loss: 1.1425\n",
            "Epoch: 12/20... Step: 2210... Loss: 1.0690... Val Loss: 1.1425\n",
            "Epoch: 12/20... Step: 2220... Loss: 1.0995... Val Loss: 1.1439\n",
            "Epoch: 12/20... Step: 2230... Loss: 1.0700... Val Loss: 1.1435\n",
            "Epoch: 12/20... Step: 2240... Loss: 1.0422... Val Loss: 1.1426\n",
            "Epoch: 12/20... Step: 2250... Loss: 1.0384... Val Loss: 1.1448\n",
            "Epoch: 12/20... Step: 2260... Loss: 1.0395... Val Loss: 1.1446\n",
            "Epoch: 13/20... Step: 2270... Loss: 1.0483... Val Loss: 1.1422\n",
            "Epoch: 13/20... Step: 2280... Loss: 1.0430... Val Loss: 1.1490\n",
            "Epoch: 13/20... Step: 2290... Loss: 1.0309... Val Loss: 1.1449\n",
            "Epoch: 13/20... Step: 2300... Loss: 1.0302... Val Loss: 1.1457\n",
            "Epoch: 13/20... Step: 2310... Loss: 1.0168... Val Loss: 1.1478\n",
            "Epoch: 13/20... Step: 2320... Loss: 1.0670... Val Loss: 1.1412\n",
            "Epoch: 13/20... Step: 2330... Loss: 1.0363... Val Loss: 1.1451\n",
            "Epoch: 13/20... Step: 2340... Loss: 1.0293... Val Loss: 1.1452\n",
            "Epoch: 13/20... Step: 2350... Loss: 1.0412... Val Loss: 1.1448\n",
            "Epoch: 13/20... Step: 2360... Loss: 1.0473... Val Loss: 1.1428\n",
            "Epoch: 13/20... Step: 2370... Loss: 1.0290... Val Loss: 1.1441\n",
            "Epoch: 13/20... Step: 2380... Loss: 1.0353... Val Loss: 1.1424\n",
            "Epoch: 13/20... Step: 2390... Loss: 1.0248... Val Loss: 1.1418\n",
            "Epoch: 13/20... Step: 2400... Loss: 1.0477... Val Loss: 1.1442\n",
            "Epoch: 13/20... Step: 2410... Loss: 1.0529... Val Loss: 1.1453\n",
            "Epoch: 13/20... Step: 2420... Loss: 1.0537... Val Loss: 1.1463\n",
            "Epoch: 13/20... Step: 2430... Loss: 1.0463... Val Loss: 1.1436\n",
            "Epoch: 13/20... Step: 2440... Loss: 1.0411... Val Loss: 1.1443\n",
            "Epoch: 13/20... Step: 2450... Loss: 1.0471... Val Loss: 1.1464\n",
            "Epoch: 14/20... Step: 2460... Loss: 1.0573... Val Loss: 1.1419\n",
            "Epoch: 14/20... Step: 2470... Loss: 1.0726... Val Loss: 1.1463\n",
            "Epoch: 14/20... Step: 2480... Loss: 1.0339... Val Loss: 1.1469\n",
            "Epoch: 14/20... Step: 2490... Loss: 1.0474... Val Loss: 1.1465\n",
            "Epoch: 14/20... Step: 2500... Loss: 1.0432... Val Loss: 1.1485\n",
            "Epoch: 14/20... Step: 2510... Loss: 1.0531... Val Loss: 1.1419\n",
            "Epoch: 14/20... Step: 2520... Loss: 1.0262... Val Loss: 1.1447\n",
            "Epoch: 14/20... Step: 2530... Loss: 1.0748... Val Loss: 1.1442\n",
            "Epoch: 14/20... Step: 2540... Loss: 1.0519... Val Loss: 1.1433\n",
            "Epoch: 14/20... Step: 2550... Loss: 1.0651... Val Loss: 1.1432\n",
            "Epoch: 14/20... Step: 2560... Loss: 1.0153... Val Loss: 1.1441\n",
            "Epoch: 14/20... Step: 2570... Loss: 1.0306... Val Loss: 1.1430\n",
            "Epoch: 14/20... Step: 2580... Loss: 1.0321... Val Loss: 1.1453\n",
            "Epoch: 14/20... Step: 2590... Loss: 1.0295... Val Loss: 1.1448\n",
            "Epoch: 14/20... Step: 2600... Loss: 1.0235... Val Loss: 1.1472\n",
            "Epoch: 14/20... Step: 2610... Loss: 1.0365... Val Loss: 1.1492\n",
            "Epoch: 14/20... Step: 2620... Loss: 1.0551... Val Loss: 1.1445\n",
            "Epoch: 14/20... Step: 2630... Loss: 1.0327... Val Loss: 1.1468\n",
            "Epoch: 14/20... Step: 2640... Loss: 1.0599... Val Loss: 1.1470\n",
            "Epoch: 15/20... Step: 2650... Loss: 1.0524... Val Loss: 1.1467\n",
            "Epoch: 15/20... Step: 2660... Loss: 1.0438... Val Loss: 1.1492\n",
            "Epoch: 15/20... Step: 2670... Loss: 1.0339... Val Loss: 1.1492\n",
            "Epoch: 15/20... Step: 2680... Loss: 1.0181... Val Loss: 1.1476\n",
            "Epoch: 15/20... Step: 2690... Loss: 1.0163... Val Loss: 1.1485\n",
            "Epoch: 15/20... Step: 2700... Loss: 1.0271... Val Loss: 1.1433\n",
            "Epoch: 15/20... Step: 2710... Loss: 1.0443... Val Loss: 1.1469\n",
            "Epoch: 15/20... Step: 2720... Loss: 1.0406... Val Loss: 1.1457\n",
            "Epoch: 15/20... Step: 2730... Loss: 1.0328... Val Loss: 1.1459\n",
            "Epoch: 15/20... Step: 2740... Loss: 1.0369... Val Loss: 1.1471\n",
            "Epoch: 15/20... Step: 2750... Loss: 1.0370... Val Loss: 1.1456\n",
            "Epoch: 15/20... Step: 2760... Loss: 1.0596... Val Loss: 1.1444\n",
            "Epoch: 15/20... Step: 2770... Loss: 1.0934... Val Loss: 1.1458\n",
            "Epoch: 15/20... Step: 2780... Loss: 1.0777... Val Loss: 1.1487\n",
            "Epoch: 15/20... Step: 2790... Loss: 1.0297... Val Loss: 1.1471\n",
            "Epoch: 15/20... Step: 2800... Loss: 1.0386... Val Loss: 1.1479\n",
            "Epoch: 15/20... Step: 2810... Loss: 1.0535... Val Loss: 1.1495\n",
            "Epoch: 15/20... Step: 2820... Loss: 1.0153... Val Loss: 1.1462\n",
            "Epoch: 15/20... Step: 2830... Loss: 1.0374... Val Loss: 1.1480\n",
            "Epoch: 16/20... Step: 2840... Loss: 1.0118... Val Loss: 1.1480\n",
            "Epoch: 16/20... Step: 2850... Loss: 1.0643... Val Loss: 1.1515\n",
            "Epoch: 16/20... Step: 2860... Loss: 1.0621... Val Loss: 1.1495\n",
            "Epoch: 16/20... Step: 2870... Loss: 1.0509... Val Loss: 1.1483\n",
            "Epoch: 16/20... Step: 2880... Loss: 1.0020... Val Loss: 1.1523\n",
            "Epoch: 16/20... Step: 2890... Loss: 1.0260... Val Loss: 1.1467\n",
            "Epoch: 16/20... Step: 2900... Loss: 1.0186... Val Loss: 1.1489\n",
            "Epoch: 16/20... Step: 2910... Loss: 1.0349... Val Loss: 1.1482\n",
            "Epoch: 16/20... Step: 2920... Loss: 1.0750... Val Loss: 1.1480\n",
            "Epoch: 16/20... Step: 2930... Loss: 1.0556... Val Loss: 1.1508\n",
            "Epoch: 16/20... Step: 2940... Loss: 1.0162... Val Loss: 1.1486\n",
            "Epoch: 16/20... Step: 2950... Loss: 1.0161... Val Loss: 1.1468\n",
            "Epoch: 16/20... Step: 2960... Loss: 1.0239... Val Loss: 1.1496\n",
            "Epoch: 16/20... Step: 2970... Loss: 1.0640... Val Loss: 1.1499\n",
            "Epoch: 16/20... Step: 2980... Loss: 1.0406... Val Loss: 1.1513\n",
            "Epoch: 16/20... Step: 2990... Loss: 1.0505... Val Loss: 1.1519\n",
            "Epoch: 16/20... Step: 3000... Loss: 1.0360... Val Loss: 1.1490\n",
            "Epoch: 16/20... Step: 3010... Loss: 1.0280... Val Loss: 1.1510\n",
            "Epoch: 16/20... Step: 3020... Loss: 1.0406... Val Loss: 1.1517\n",
            "Epoch: 17/20... Step: 3030... Loss: 1.0062... Val Loss: 1.1477\n",
            "Epoch: 17/20... Step: 3040... Loss: 1.0296... Val Loss: 1.1498\n",
            "Epoch: 17/20... Step: 3050... Loss: 1.0117... Val Loss: 1.1529\n",
            "Epoch: 17/20... Step: 3060... Loss: 1.0860... Val Loss: 1.1477\n",
            "Epoch: 17/20... Step: 3070... Loss: 1.0182... Val Loss: 1.1535\n",
            "Epoch: 17/20... Step: 3080... Loss: 1.0403... Val Loss: 1.1479\n",
            "Epoch: 17/20... Step: 3090... Loss: 1.0324... Val Loss: 1.1506\n",
            "Epoch: 17/20... Step: 3100... Loss: 1.0078... Val Loss: 1.1515\n",
            "Epoch: 17/20... Step: 3110... Loss: 1.0576... Val Loss: 1.1490\n",
            "Epoch: 17/20... Step: 3120... Loss: 1.0242... Val Loss: 1.1511\n",
            "Epoch: 17/20... Step: 3130... Loss: 1.0536... Val Loss: 1.1471\n",
            "Epoch: 17/20... Step: 3140... Loss: 1.0053... Val Loss: 1.1475\n",
            "Epoch: 17/20... Step: 3150... Loss: 0.9898... Val Loss: 1.1490\n",
            "Epoch: 17/20... Step: 3160... Loss: 1.0362... Val Loss: 1.1507\n",
            "Epoch: 17/20... Step: 3170... Loss: 1.0408... Val Loss: 1.1502\n",
            "Epoch: 17/20... Step: 3180... Loss: 1.0507... Val Loss: 1.1523\n",
            "Epoch: 17/20... Step: 3190... Loss: 1.0596... Val Loss: 1.1496\n",
            "Epoch: 17/20... Step: 3200... Loss: 1.0099... Val Loss: 1.1515\n",
            "Epoch: 17/20... Step: 3210... Loss: 1.0630... Val Loss: 1.1547\n",
            "Epoch: 18/20... Step: 3220... Loss: 1.0022... Val Loss: 1.1501\n",
            "Epoch: 18/20... Step: 3230... Loss: 1.0005... Val Loss: 1.1532\n",
            "Epoch: 18/20... Step: 3240... Loss: 1.0225... Val Loss: 1.1542\n",
            "Epoch: 18/20... Step: 3250... Loss: 1.0396... Val Loss: 1.1507\n",
            "Epoch: 18/20... Step: 3260... Loss: 1.0496... Val Loss: 1.1531\n",
            "Epoch: 18/20... Step: 3270... Loss: 1.0181... Val Loss: 1.1501\n",
            "Epoch: 18/20... Step: 3280... Loss: 1.0365... Val Loss: 1.1519\n",
            "Epoch: 18/20... Step: 3290... Loss: 1.0255... Val Loss: 1.1518\n",
            "Epoch: 18/20... Step: 3300... Loss: 1.0167... Val Loss: 1.1495\n",
            "Epoch: 18/20... Step: 3310... Loss: 1.0195... Val Loss: 1.1538\n",
            "Epoch: 18/20... Step: 3320... Loss: 1.0324... Val Loss: 1.1491\n",
            "Epoch: 18/20... Step: 3330... Loss: 1.0085... Val Loss: 1.1519\n",
            "Epoch: 18/20... Step: 3340... Loss: 1.0257... Val Loss: 1.1499\n",
            "Epoch: 18/20... Step: 3350... Loss: 1.0174... Val Loss: 1.1545\n",
            "Epoch: 18/20... Step: 3360... Loss: 1.0305... Val Loss: 1.1528\n",
            "Epoch: 18/20... Step: 3370... Loss: 1.0431... Val Loss: 1.1549\n",
            "Epoch: 18/20... Step: 3380... Loss: 1.0283... Val Loss: 1.1557\n",
            "Epoch: 18/20... Step: 3390... Loss: 1.0339... Val Loss: 1.1525\n",
            "Epoch: 18/20... Step: 3400... Loss: 1.0226... Val Loss: 1.1571\n",
            "Epoch: 19/20... Step: 3410... Loss: 1.0124... Val Loss: 1.1566\n",
            "Epoch: 19/20... Step: 3420... Loss: 1.0233... Val Loss: 1.1523\n",
            "Epoch: 19/20... Step: 3430... Loss: 1.0155... Val Loss: 1.1586\n",
            "Epoch: 19/20... Step: 3440... Loss: 1.0327... Val Loss: 1.1536\n",
            "Epoch: 19/20... Step: 3450... Loss: 1.0626... Val Loss: 1.1553\n",
            "Epoch: 19/20... Step: 3460... Loss: 1.0412... Val Loss: 1.1498\n",
            "Epoch: 19/20... Step: 3470... Loss: 1.0201... Val Loss: 1.1523\n",
            "Epoch: 19/20... Step: 3480... Loss: 1.0016... Val Loss: 1.1531\n",
            "Epoch: 19/20... Step: 3490... Loss: 1.0088... Val Loss: 1.1507\n",
            "Epoch: 19/20... Step: 3500... Loss: 1.0081... Val Loss: 1.1552\n",
            "Epoch: 19/20... Step: 3510... Loss: 1.0301... Val Loss: 1.1541\n",
            "Epoch: 19/20... Step: 3520... Loss: 1.0156... Val Loss: 1.1525\n",
            "Epoch: 19/20... Step: 3530... Loss: 1.0137... Val Loss: 1.1519\n",
            "Epoch: 19/20... Step: 3540... Loss: 1.0484... Val Loss: 1.1550\n",
            "Epoch: 19/20... Step: 3550... Loss: 1.0051... Val Loss: 1.1557\n",
            "Epoch: 19/20... Step: 3560... Loss: 1.0474... Val Loss: 1.1542\n",
            "Epoch: 19/20... Step: 3570... Loss: 1.0181... Val Loss: 1.1563\n",
            "Epoch: 19/20... Step: 3580... Loss: 0.9914... Val Loss: 1.1538\n",
            "Epoch: 19/20... Step: 3590... Loss: 1.0297... Val Loss: 1.1595\n",
            "Epoch: 20/20... Step: 3600... Loss: 0.9967... Val Loss: 1.1578\n",
            "Epoch: 20/20... Step: 3610... Loss: 1.0214... Val Loss: 1.1544\n",
            "Epoch: 20/20... Step: 3620... Loss: 1.0317... Val Loss: 1.1590\n",
            "Epoch: 20/20... Step: 3630... Loss: 1.0109... Val Loss: 1.1558\n",
            "Epoch: 20/20... Step: 3640... Loss: 1.0446... Val Loss: 1.1591\n",
            "Epoch: 20/20... Step: 3650... Loss: 1.0527... Val Loss: 1.1555\n",
            "Epoch: 20/20... Step: 3660... Loss: 1.0450... Val Loss: 1.1530\n",
            "Epoch: 20/20... Step: 3670... Loss: 1.0092... Val Loss: 1.1578\n",
            "Epoch: 20/20... Step: 3680... Loss: 1.0681... Val Loss: 1.1555\n",
            "Epoch: 20/20... Step: 3690... Loss: 1.0462... Val Loss: 1.1551\n",
            "Epoch: 20/20... Step: 3700... Loss: 1.0287... Val Loss: 1.1537\n",
            "Epoch: 20/20... Step: 3710... Loss: 1.0132... Val Loss: 1.1544\n",
            "Epoch: 20/20... Step: 3720... Loss: 1.0295... Val Loss: 1.1551\n",
            "Epoch: 20/20... Step: 3730... Loss: 1.0236... Val Loss: 1.1575\n",
            "Epoch: 20/20... Step: 3740... Loss: 0.9979... Val Loss: 1.1613\n",
            "Epoch: 20/20... Step: 3750... Loss: 1.0355... Val Loss: 1.1560\n",
            "Epoch: 20/20... Step: 3760... Loss: 1.0207... Val Loss: 1.1585\n",
            "Epoch: 20/20... Step: 3770... Loss: 1.0191... Val Loss: 1.1557\n",
            "Epoch: 20/20... Step: 3780... Loss: 1.1417... Val Loss: 1.1585\n"
          ],
          "name": "stdout"
        }
      ]
    },
    {
      "cell_type": "markdown",
      "metadata": {
        "id": "hOev4G0isaJ8",
        "colab_type": "text"
      },
      "source": [
        "## Getting the best model\n",
        "\n",
        "To set your hyperparameters to get the best performance, you'll want to watch the training and validation losses. If your training loss is much lower than the validation loss, you're overfitting. Increase regularization (more dropout) or use a smaller network. If the training and validation losses are close, you're underfitting so you can increase the size of the network."
      ]
    },
    {
      "cell_type": "markdown",
      "metadata": {
        "id": "4HXmgClbsaJ9",
        "colab_type": "text"
      },
      "source": [
        "## Hyperparameters\n",
        "\n",
        "Here are the hyperparameters for the network.\n",
        "\n",
        "In defining the model:\n",
        "* `n_hidden` - The number of units in the hidden layers.\n",
        "* `n_layers` - Number of hidden LSTM layers to use.\n",
        "\n",
        "We assume that dropout probability and learning rate will be kept at the default, in this example.\n",
        "\n",
        "And in training:\n",
        "* `batch_size` - Number of sequences running through the network in one pass.\n",
        "* `seq_length` - Number of characters in the sequence the network is trained on. Larger is better typically, the network will learn more long range dependencies. But it takes longer to train. 100 is typically a good number here.\n",
        "* `lr` - Learning rate for training\n",
        "\n",
        "Here's some good advice from Andrej Karpathy on training the network. I'm going to copy it in here for your benefit, but also link to [where it originally came from](https://github.com/karpathy/char-rnn#tips-and-tricks).\n",
        "\n",
        "> ## Tips and Tricks\n",
        "\n",
        ">### Monitoring Validation Loss vs. Training Loss\n",
        ">If you're somewhat new to Machine Learning or Neural Networks it can take a bit of expertise to get good models. The most important quantity to keep track of is the difference between your training loss (printed during training) and the validation loss (printed once in a while when the RNN is run on the validation data (by default every 1000 iterations)). In particular:\n",
        "\n",
        "> - If your training loss is much lower than validation loss then this means the network might be **overfitting**. Solutions to this are to decrease your network size, or to increase dropout. For example you could try dropout of 0.5 and so on.\n",
        "> - If your training/validation loss are about equal then your model is **underfitting**. Increase the size of your model (either number of layers or the raw number of neurons per layer)\n",
        "\n",
        "> ### Approximate number of parameters\n",
        "\n",
        "> The two most important parameters that control the model are `n_hidden` and `n_layers`. I would advise that you always use `n_layers` of either 2/3. The `n_hidden` can be adjusted based on how much data you have. The two important quantities to keep track of here are:\n",
        "\n",
        "> - The number of parameters in your model. This is printed when you start training.\n",
        "> - The size of your dataset. 1MB file is approximately 1 million characters.\n",
        "\n",
        ">These two should be about the same order of magnitude. It's a little tricky to tell. Here are some examples:\n",
        "\n",
        "> - I have a 100MB dataset and I'm using the default parameter settings (which currently print 150K parameters). My data size is significantly larger (100 mil >> 0.15 mil), so I expect to heavily underfit. I am thinking I can comfortably afford to make `n_hidden` larger.\n",
        "> - I have a 10MB dataset and running a 10 million parameter model. I'm slightly nervous and I'm carefully monitoring my validation loss. If it's larger than my training loss then I may want to try to increase dropout a bit and see if that helps the validation loss.\n",
        "\n",
        "> ### Best models strategy\n",
        "\n",
        ">The winning strategy to obtaining very good models (if you have the compute time) is to always err on making the network larger (as large as you're willing to wait for it to compute) and then try different dropout values (between 0,1). Whatever model has the best validation performance (the loss, written in the checkpoint filename, low is good) is the one you should use in the end.\n",
        "\n",
        ">It is very common in deep learning to run many different models with many different hyperparameter settings, and in the end take whatever checkpoint gave the best validation performance.\n",
        "\n",
        ">By the way, the size of your training and validation splits are also parameters. Make sure you have a decent amount of data in your validation set or otherwise the validation performance will be noisy and not very informative."
      ]
    },
    {
      "cell_type": "markdown",
      "metadata": {
        "id": "9fkMp20OsaJ-",
        "colab_type": "text"
      },
      "source": [
        "## Checkpoint\n",
        "\n",
        "After training, we'll save the model so we can load it again later if we need too. Here I'm saving the parameters needed to create the same architecture, the hidden layer hyperparameters and the text characters."
      ]
    },
    {
      "cell_type": "code",
      "metadata": {
        "id": "yRiGETONsaKA",
        "colab_type": "code",
        "colab": {}
      },
      "source": [
        "# change the name, for saving multiple files\n",
        "model_name = 'rnn_x_epoch.net'\n",
        "\n",
        "checkpoint = {'n_hidden': net.n_hidden,\n",
        "              'n_layers': net.n_layers,\n",
        "              'state_dict': net.state_dict(),\n",
        "              'tokens': net.chars}\n",
        "\n",
        "with open(model_name, 'wb') as f:\n",
        "    torch.save(checkpoint, f)"
      ],
      "execution_count": 54,
      "outputs": []
    },
    {
      "cell_type": "markdown",
      "metadata": {
        "id": "aOfGiiXbsaKH",
        "colab_type": "text"
      },
      "source": [
        "---\n",
        "## Making Predictions\n",
        "\n",
        "Now that the model is trained, we'll want to sample from it and make predictions about next characters! To sample, we pass in a character and have the network predict the next character. Then we take that character, pass it back in, and get another predicted character. Just keep doing this and you'll generate a bunch of text!\n",
        "\n",
        "### A note on the `predict`  function\n",
        "\n",
        "The output of our RNN is from a fully-connected layer and it outputs a **distribution of next-character scores**.\n",
        "\n",
        "> To actually get the next character, we apply a softmax function, which gives us a *probability* distribution that we can then sample to predict the next character.\n",
        "\n",
        "### Top K sampling\n",
        "\n",
        "Our predictions come from a categorical probability distribution over all the possible characters. We can make the sample text and make it more reasonable to handle (with less variables) by only considering some $K$ most probable characters. This will prevent the network from giving us completely absurd characters while allowing it to introduce some noise and randomness into the sampled text. Read more about [topk, here](https://pytorch.org/docs/stable/torch.html#torch.topk).\n"
      ]
    },
    {
      "cell_type": "code",
      "metadata": {
        "id": "ZMBIdKabsaKJ",
        "colab_type": "code",
        "colab": {}
      },
      "source": [
        "def predict(net, char, h=None, top_k=None):\n",
        "        ''' Given a character, predict the next character.\n",
        "            Returns the predicted character and the hidden state.\n",
        "        '''\n",
        "        \n",
        "        # tensor inputs\n",
        "        x = np.array([[net.char2int[char]]])\n",
        "        x = one_hot_encode(x, len(net.chars))\n",
        "        inputs = torch.from_numpy(x)\n",
        "        \n",
        "        if(train_on_gpu):\n",
        "            inputs = inputs.cuda()\n",
        "        \n",
        "        # detach hidden state from history\n",
        "        h = tuple([each.data for each in h])\n",
        "        # get the output of the model\n",
        "        out, h = net(inputs, h)\n",
        "\n",
        "        # get the character probabilities\n",
        "        p = F.softmax(out, dim=1).data\n",
        "        if(train_on_gpu):\n",
        "            p = p.cpu() # move to cpu\n",
        "        \n",
        "        # get top characters\n",
        "        if top_k is None:\n",
        "            top_ch = np.arange(len(net.chars))\n",
        "        else:\n",
        "            p, top_ch = p.topk(top_k)\n",
        "            top_ch = top_ch.numpy().squeeze()\n",
        "        \n",
        "        # select the likely next character with some element of randomness\n",
        "        p = p.numpy().squeeze()\n",
        "        char = np.random.choice(top_ch, p=p/p.sum())\n",
        "        \n",
        "        # return the encoded value of the predicted char and the hidden state\n",
        "        return net.int2char[char], h"
      ],
      "execution_count": 51,
      "outputs": []
    },
    {
      "cell_type": "markdown",
      "metadata": {
        "id": "FVHrFFAusaKP",
        "colab_type": "text"
      },
      "source": [
        "### Priming and generating text \n",
        "\n",
        "Typically you'll want to prime the network so you can build up a hidden state. Otherwise the network will start out generating characters at random. In general the first bunch of characters will be a little rough since it hasn't built up a long history of characters to predict from."
      ]
    },
    {
      "cell_type": "code",
      "metadata": {
        "id": "z-oSk6MPsaKR",
        "colab_type": "code",
        "colab": {}
      },
      "source": [
        "def sample(net, size, prime='The', top_k=None):\n",
        "        \n",
        "    if(train_on_gpu):\n",
        "        net.cuda()\n",
        "    else:\n",
        "        net.cpu()\n",
        "    \n",
        "    net.eval() # eval mode\n",
        "    \n",
        "    # First off, run through the prime characters\n",
        "    chars = [ch for ch in prime]\n",
        "    h = net.init_hidden(1)\n",
        "    for ch in prime:\n",
        "        char, h = predict(net, ch, h, top_k=top_k)\n",
        "\n",
        "    chars.append(char)\n",
        "    \n",
        "    # Now pass in the previous character and get a new one\n",
        "    for ii in range(size):\n",
        "        char, h = predict(net, chars[-1], h, top_k=top_k)\n",
        "        chars.append(char)\n",
        "\n",
        "    return ''.join(chars)"
      ],
      "execution_count": 52,
      "outputs": []
    },
    {
      "cell_type": "code",
      "metadata": {
        "id": "NErar8FIsaKY",
        "colab_type": "code",
        "colab": {
          "base_uri": "https://localhost:8080/",
          "height": 404
        },
        "outputId": "6f2c8259-3c7f-429e-d1cd-6b888b487aa0"
      },
      "source": [
        "print(sample(net, 1000, prime='Anna', top_k=5))"
      ],
      "execution_count": 53,
      "outputs": [
        {
          "output_type": "stream",
          "text": [
            "Anna and Vronsky tried to control herself that\n",
            "there had said to him, and he\n",
            "found himself\n",
            "to come was a man who was angry. They were the officers. And in his second repenting happiness with his cares, he felt her left hand which had\n",
            "been struggling at his sister and her side, with their light short his, the position in her soul,\n",
            "and he had not spoken something through his wife's happiness and their hands, and all the matters were the simple country,\n",
            "and\n",
            "who was to be driven\n",
            "on which he would be supper.\n",
            "\n",
            "\"That's the thing's doubt to me, but I'm going to the counting, on such an arrival,\" he said, with an\n",
            "old man caught a gray white red motions, with her head and went out.\n",
            "\n",
            "\"I don't know what he's at a leash, sit it all well. You know the process of the prince, what's\n",
            "the proper thing to be silent.\"\n",
            "\"And then\n",
            "you see, and to say that it's so much they were nice and discussion with his face. If\n",
            "you know that\n",
            "that's the same thing--yes,\" said Levin.\n",
            "\n",
            "\"Yes,\n",
            "there's a little strangers,\" he said,\n"
          ],
          "name": "stdout"
        }
      ]
    },
    {
      "cell_type": "markdown",
      "metadata": {
        "id": "q9vTExeSsaKj",
        "colab_type": "text"
      },
      "source": [
        "## Loading a checkpoint"
      ]
    },
    {
      "cell_type": "code",
      "metadata": {
        "id": "MyCbKJ-4saKk",
        "colab_type": "code",
        "colab": {
          "base_uri": "https://localhost:8080/",
          "height": 34
        },
        "outputId": "bc86de96-d3ba-4c68-fad8-c8e7c3e3e29e"
      },
      "source": [
        "# Here we have loaded in a model that trained over 20 epochs `rnn_20_epoch.net`\n",
        "with open('rnn_x_epoch.net', 'rb') as f:\n",
        "    checkpoint = torch.load(f)\n",
        "    \n",
        "loaded = CharRNN(checkpoint['tokens'], n_hidden=checkpoint['n_hidden'], n_layers=checkpoint['n_layers'])\n",
        "loaded.load_state_dict(checkpoint['state_dict'])"
      ],
      "execution_count": 55,
      "outputs": [
        {
          "output_type": "execute_result",
          "data": {
            "text/plain": [
              "<All keys matched successfully>"
            ]
          },
          "metadata": {
            "tags": []
          },
          "execution_count": 55
        }
      ]
    },
    {
      "cell_type": "code",
      "metadata": {
        "id": "jMOPSBymsaKu",
        "colab_type": "code",
        "colab": {
          "base_uri": "https://localhost:8080/",
          "height": 882
        },
        "outputId": "c8a18605-b99c-4052-dac1-15ccecdeede4"
      },
      "source": [
        "# Sample using a loaded model\n",
        "print(sample(loaded, 2000, top_k=5, prime=\"And Levin said\"))"
      ],
      "execution_count": 56,
      "outputs": [
        {
          "output_type": "stream",
          "text": [
            "And Levin said:\n",
            "\n",
            "\"What is the mistake meant to see you!\" he said with a profis and a certain, and without a bruta terment princess.\n",
            "\n",
            "\"What?\" he thought.\n",
            "\n",
            "\"Why did you speak of you!\" said the painful and smooth\n",
            "house, and she was aware of her husband's compass in the\n",
            "church to the ploughed\n",
            "senses, that it was not a man who would\n",
            "suppose so subject, and as always said,\n",
            "when Vronsky went up some owing to the peasant walk into the porter, saw it was the\n",
            "strength of\n",
            "shame, though his chorid and he was delighted with him was a complete self-son, on his wife was not a getture of her first moments. But at that instant he had been ashamed. \"What is there of the men were annoyed.\n",
            "\n",
            "\"I have to be done? I am afraid I was struggling with you.\"\n",
            "\n",
            "Alexey Alexandrovitch was standing again; and they were charming with his\n",
            "wife, shaking her hat.\n",
            " \"The horse, and I have seen it,\" said Levin. \"Why is it they will say it's not to be sent away, and\n",
            "not to\n",
            "bring up, and she did not argually complete the passion, and they did change the sacrament which ought to think about it.\"\n",
            "\n",
            "\"And I'm very glad I am\n",
            "suffering and\n",
            "touching a light to the seas of me,\" said the one to meet the princess. \"That was not such a man, that is to say, to be divorced.\"\n",
            "\n",
            "\"Yes, yes,\" said Vronsky.\n",
            "\n",
            "The\n",
            "drawing room was taking\n",
            "the house with a smile.\n",
            "\n",
            "\"I would have forgotten all other some sorts, so to blame to ask you,\" said the point.\n",
            "\n",
            "\"You suppose I can't, nothing, and so you do believe it was that they've\n",
            "said all this at the table, shake, and such as a support\n",
            "would have said a good stat, and ask a subject which was their suppressed position and more and more any perfect\n",
            "mistaken, or would you like any of them, and as I see, and I shouldn't change it with your wife.\"\n",
            "\n",
            "\"Yes, yes,\" he said to himself.\n",
            "\n",
            "The man was so awkward, at her\n",
            "face, which had been to be done for a mental\n",
            "person, and was the calm, and those people should be so that he, and was a strange face and shame.\n",
            "\n",
            "The past came into her hands with his brother, and she\n",
            "s\n"
          ],
          "name": "stdout"
        }
      ]
    },
    {
      "cell_type": "code",
      "metadata": {
        "id": "LanDMzmMsaK2",
        "colab_type": "code",
        "colab": {}
      },
      "source": [
        ""
      ],
      "execution_count": null,
      "outputs": []
    }
  ]
}